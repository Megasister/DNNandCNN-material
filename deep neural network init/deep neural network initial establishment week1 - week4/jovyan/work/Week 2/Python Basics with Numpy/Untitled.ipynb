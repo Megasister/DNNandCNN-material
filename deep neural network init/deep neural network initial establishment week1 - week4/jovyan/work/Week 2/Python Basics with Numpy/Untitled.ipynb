{
 "cells": [
  {
   "cell_type": "code",
   "execution_count": 10,
   "metadata": {
    "collapsed": true
   },
   "outputs": [],
   "source": [
    "import numpy as np\n",
    "\n",
    "a = np.random.randn(5,1)"
   ]
  },
  {
   "cell_type": "code",
   "execution_count": 11,
   "metadata": {},
   "outputs": [
    {
     "name": "stdout",
     "output_type": "stream",
     "text": [
      "[[-1.21870987]\n",
      " [-0.56691478]\n",
      " [-0.78536972]\n",
      " [-0.03491374]\n",
      " [ 3.35291403]]\n"
     ]
    }
   ],
   "source": [
    "print(a)"
   ]
  },
  {
   "cell_type": "code",
   "execution_count": 12,
   "metadata": {},
   "outputs": [
    {
     "name": "stdout",
     "output_type": "stream",
     "text": [
      "(5, 1)\n"
     ]
    }
   ],
   "source": [
    "print(a.shape)"
   ]
  },
  {
   "cell_type": "code",
   "execution_count": 13,
   "metadata": {},
   "outputs": [
    {
     "name": "stdout",
     "output_type": "stream",
     "text": [
      "[[-1.21870987 -0.56691478 -0.78536972 -0.03491374  3.35291403]]\n"
     ]
    }
   ],
   "source": [
    "print(a.T)"
   ]
  },
  {
   "cell_type": "code",
   "execution_count": 15,
   "metadata": {},
   "outputs": [
    {
     "name": "stdout",
     "output_type": "stream",
     "text": [
      "[[  1.48525376e+00   6.90904642e-01   9.57137829e-01   4.25497234e-02\n",
      "   -4.08622943e+00]\n",
      " [  6.90904642e-01   3.21392370e-01   4.45237702e-01   1.97931170e-02\n",
      "   -1.90081652e+00]\n",
      " [  9.57137829e-01   4.45237702e-01   6.16805593e-01   2.74201965e-02\n",
      "   -2.63327714e+00]\n",
      " [  4.25497234e-02   1.97931170e-02   2.74201965e-02   1.21896945e-03\n",
      "   -1.17062779e-01]\n",
      " [ -4.08622943e+00  -1.90081652e+00  -2.63327714e+00  -1.17062779e-01\n",
      "    1.12420325e+01]]\n"
     ]
    }
   ],
   "source": [
    "x = np.dot(a, a.T)\n",
    "print(x)"
   ]
  },
  {
   "cell_type": "code",
   "execution_count": 9,
   "metadata": {},
   "outputs": [
    {
     "name": "stdout",
     "output_type": "stream",
     "text": [
      "[[ 1.58782137]\n",
      " [ 0.65282942]\n",
      " [ 0.62575322]\n",
      " [ 0.06352882]\n",
      " [-1.03967121]]\n"
     ]
    }
   ],
   "source": []
  },
  {
   "cell_type": "code",
   "execution_count": null,
   "metadata": {
    "collapsed": true
   },
   "outputs": [],
   "source": []
  }
 ],
 "metadata": {
  "kernelspec": {
   "display_name": "Python 3",
   "language": "python",
   "name": "python3"
  },
  "language_info": {
   "codemirror_mode": {
    "name": "ipython",
    "version": 3
   },
   "file_extension": ".py",
   "mimetype": "text/x-python",
   "name": "python",
   "nbconvert_exporter": "python",
   "pygments_lexer": "ipython3",
   "version": "3.6.0"
  }
 },
 "nbformat": 4,
 "nbformat_minor": 2
}
